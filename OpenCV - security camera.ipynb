{
 "cells": [
  {
   "cell_type": "code",
   "execution_count": 2,
   "metadata": {},
   "outputs": [],
   "source": [
    "import cv2\n",
    "import winsound\n",
    "\n",
    "cam = cv2.VideoCapture(1)\n",
    "while cam.isOpened():\n",
    "    ret,frame1 = cam.read()\n",
    "    ret,frame2 = cam.read()\n",
    "    \n",
    "    diff = cv2.absdiff(frame1,frame2)\n",
    "    #cv2.imshow(\"Frame\",diff)\n",
    "    \n",
    "    gray = cv2.cvtColor(diff,cv2.COLOR_RGB2GRAY)\n",
    "    #cv2.imshow(\"Frame\",gray)\n",
    "    \n",
    "    blur = cv2.GaussianBlur(gray,(5,5),0)\n",
    "    #cv2.imshow(\"Frame\",blur)\n",
    "    \n",
    "    _,thresh = cv2.threshold(blur,20,255,cv2.THRESH_BINARY)\n",
    "    #cv2.imshow(\"Frame\",thresh)\n",
    "    \n",
    "    dilated = cv2.dilate(thresh,None,iterations=3)\n",
    "   \n",
    "\n",
    "    contours, _ = cv2.findContours(dilated,cv2.RETR_TREE,cv2.CHAIN_APPROX_SIMPLE)\n",
    "    \n",
    "    for c in contours:\n",
    "        if cv2.contourArea(c)>20000:\n",
    "            x,y,w,h = cv2.boundingRect(c)\n",
    "            cv2.rectangle(frame1,(x,y),(x+w,y+h),(255,255,255),3)\n",
    "            winsound.PlaySound('Brown.wav',winsound.SND_ASYNC)\n",
    "    \n",
    "    \n",
    "    if cv2.waitKey(1) & 0xFF == ord('q'):\n",
    "        break\n",
    "    \n",
    "    cv2.imshow(\"CCTV Camera\",frame1)\n",
    "    \n",
    "cam.release()\n",
    "cv2.destroyAllWindows()"
   ]
  },
  {
   "cell_type": "code",
   "execution_count": null,
   "metadata": {},
   "outputs": [],
   "source": []
  }
 ],
 "metadata": {
  "kernelspec": {
   "display_name": "Python 3",
   "language": "python",
   "name": "python3"
  },
  "language_info": {
   "codemirror_mode": {
    "name": "ipython",
    "version": 3
   },
   "file_extension": ".py",
   "mimetype": "text/x-python",
   "name": "python",
   "nbconvert_exporter": "python",
   "pygments_lexer": "ipython3",
   "version": "3.7.4"
  }
 },
 "nbformat": 4,
 "nbformat_minor": 2
}
